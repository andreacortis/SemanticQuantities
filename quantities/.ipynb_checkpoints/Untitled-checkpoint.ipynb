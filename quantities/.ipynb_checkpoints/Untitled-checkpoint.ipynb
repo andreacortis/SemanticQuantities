{
 "cells": [
  {
   "cell_type": "code",
   "execution_count": 77,
   "id": "posted-subscriber",
   "metadata": {},
   "outputs": [],
   "source": [
    "import numpy as np\n",
    "from typeguard import typechecked\n",
    "from decimal import Decimal\n",
    "from IPython.display import display, Latex\n",
    "import numbers\n",
    "from uncertainties import ufloat\n",
    "import uncertainties\n",
    "from pint import UnitRegistry, DimensionalityError\n",
    "ureg = UnitRegistry(non_int_type=Decimal)\n",
    "ureg.default_format = \"~P\"\n",
    "Q_=ureg.Quantity\n",
    "import matplotlib.pyplot as plt\n",
    "esc = lambda s: s.replace('\"\\\"','\"\\\\\"')\n",
    "import pandas as pd\n",
    "from scipy.optimize import curve_fit"
   ]
  },
  {
   "cell_type": "markdown",
   "id": "amazing-watch",
   "metadata": {},
   "source": [
    "Let's assume that there is a relation between the weight of animal species A, $w_A$, and the weight of animal species B, $w_b$ of equal age, $t$. In particular, we have made the following series of mesaurements "
   ]
  },
  {
   "cell_type": "code",
   "execution_count": 102,
   "id": "later-works",
   "metadata": {},
   "outputs": [
    {
     "data": {
      "text/html": [
       "<div>\n",
       "<style scoped>\n",
       "    .dataframe tbody tr th:only-of-type {\n",
       "        vertical-align: middle;\n",
       "    }\n",
       "\n",
       "    .dataframe tbody tr th {\n",
       "        vertical-align: top;\n",
       "    }\n",
       "\n",
       "    .dataframe thead th {\n",
       "        text-align: right;\n",
       "    }\n",
       "</style>\n",
       "<table border=\"1\" class=\"dataframe\">\n",
       "  <thead>\n",
       "    <tr style=\"text-align: right;\">\n",
       "      <th></th>\n",
       "      <th>t</th>\n",
       "      <th>wa</th>\n",
       "      <th>wb</th>\n",
       "    </tr>\n",
       "  </thead>\n",
       "  <tbody>\n",
       "    <tr>\n",
       "      <th>0</th>\n",
       "      <td>1.0</td>\n",
       "      <td>0.110966</td>\n",
       "      <td>2.001216</td>\n",
       "    </tr>\n",
       "    <tr>\n",
       "      <th>1</th>\n",
       "      <td>2.0</td>\n",
       "      <td>0.150387</td>\n",
       "      <td>2.002233</td>\n",
       "    </tr>\n",
       "    <tr>\n",
       "      <th>2</th>\n",
       "      <td>3.0</td>\n",
       "      <td>0.222948</td>\n",
       "      <td>2.004905</td>\n",
       "    </tr>\n",
       "    <tr>\n",
       "      <th>3</th>\n",
       "      <td>4.0</td>\n",
       "      <td>0.331519</td>\n",
       "      <td>2.010835</td>\n",
       "    </tr>\n",
       "    <tr>\n",
       "      <th>4</th>\n",
       "      <td>5.0</td>\n",
       "      <td>0.478258</td>\n",
       "      <td>2.022506</td>\n",
       "    </tr>\n",
       "  </tbody>\n",
       "</table>\n",
       "</div>"
      ],
      "text/plain": [
       "     t        wa        wb\n",
       "0  1.0  0.110966  2.001216\n",
       "1  2.0  0.150387  2.002233\n",
       "2  3.0  0.222948  2.004905\n",
       "3  4.0  0.331519  2.010835\n",
       "4  5.0  0.478258  2.022506"
      ]
     },
     "execution_count": 102,
     "metadata": {},
     "output_type": "execute_result"
    }
   ],
   "source": [
    "t = np.arange(1,20,1)\n",
    "wa = 0.1 + 0.3*(t/4.5)**2.2 # weight in kg\n",
    "wb = 3 - np.cos(wa/2.25) # weight in kg\n",
    "df = pd.DataFrame(np.array([t,wa,wb]).T, columns=['t','wa','wb'])\n",
    "df.head()\n",
    "\n",
    "dg = pd.DataFrame(np.array([t,1000*wa,1000*wb]).T, columns=['t','wa','wb'])"
   ]
  },
  {
   "cell_type": "code",
   "execution_count": 106,
   "id": "loaded-transformation",
   "metadata": {},
   "outputs": [
    {
     "name": "stdout",
     "output_type": "stream",
     "text": [
      "a = [-0.01245441  0.13243525 -0.03157931  2.00614329]\n"
     ]
    },
    {
     "data": {
      "text/plain": [
       "Text(0, 0.5, '$w_b$ [kg]')"
      ]
     },
     "execution_count": 106,
     "metadata": {},
     "output_type": "execute_result"
    },
    {
     "data": {
      "image/png": "[encoded data removed]",
      "text/plain": [
       "<Figure size 432x288 with 1 Axes>"
      ]
     },
     "metadata": {
      "needs_background": "light"
     },
     "output_type": "display_data"
    }
   ],
   "source": [
    "a = np.polyfit(df.wa, df.wb, 3)\n",
    "print(f\"a = {a}\")\n",
    "p = np.poly1d(a)(wa)\n",
    "\n",
    "plt.plot(df.wa, df.wb, 'bo')\n",
    "plt.plot(df.wa, np.poly1d(a)(wa), 'r-')\n",
    "plt.title('A-B weights in Kg')\n",
    "plt.xlabel('$w_a$ [kg]',fontsize=14)\n",
    "plt.ylabel('$w_b$ [kg]',fontsize=14)"
   ]
  },
  {
   "cell_type": "code",
   "execution_count": null,
   "id": "exact-tracker",
   "metadata": {},
   "outputs": [],
   "source": [
    "a = np.polyfit(df.wa, df.wb, 3)\n",
    "print(f\"a = {a}\")\n",
    "p = np.poly1d(a)(wa)\n",
    "\n",
    "plt.plot(df.wa, df.wb, 'bo')\n",
    "plt.plot(df.wa, np.poly1d(a)(wa), 'r-')\n",
    "plt.title('A-B weights in Kg')\n",
    "plt.xlabel('$w_a$ [kg]',fontsize=14)\n",
    "plt.ylabel('$w_b$ [kg]',fontsize=14)"
   ]
  }
 ],
 "metadata": {
  "kernelspec": {
   "display_name": "Python 3",
   "language": "python",
   "name": "python3"
  },
  "language_info": {
   "codemirror_mode": {
    "name": "ipython",
    "version": 3
   },
   "file_extension": ".py",
   "mimetype": "text/x-python",
   "name": "python",
   "nbconvert_exporter": "python",
   "pygments_lexer": "ipython3",
   "version": "3.9.0"
  }
 },
 "nbformat": 4,
 "nbformat_minor": 5
}
