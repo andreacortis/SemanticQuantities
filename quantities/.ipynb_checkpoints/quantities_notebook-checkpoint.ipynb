{
 "cells": [
  {
   "cell_type": "code",
   "execution_count": null,
   "id": "ecological-flower",
   "metadata": {},
   "outputs": [],
   "source": [
    "from quantities import quantity_maker, Limits, Q_\n",
    "from pint import DimensionalityError\n",
    "from uncertainties import ufloat\n",
    "from typeguard import typechecked\n",
    "from handcalcs import handcalc\n",
    "from handcalcs.handcalcs import LatexRenderer\n",
    "import inspect\n",
    "import innerscope\n",
    "from handcalcs.decorator import _func_source_to_cell"
   ]
  },
  {
   "cell_type": "code",
   "execution_count": null,
   "id": "smooth-berry",
   "metadata": {},
   "outputs": [],
   "source": [
    "Mass = quantity_maker('Mass','kg')\n",
    "Volume = quantity_maker('Volume','m^3')\n",
    "\n",
    "Density = quantity_maker('Density','kg/m^3')\n",
    "@typechecked\n",
    "# @handcalc()\n",
    "def density(name:str, m:Mass, v:Volume) -> Density:\n",
    "    name = f'{name} = \\\\frac{{{m.name}}}{{{v.name}}}'\n",
    "    return Density(name = name, quantity = (m/v))\n",
    "\n",
    "m = Mass(name='m_0', magnitude=ufloat(6, 0.1), units='kg')\n",
    "display(m)\n",
    "\n",
    "v = Volume(name='v_0', quantity=Q_(ufloat(3, 0.2),'m^3'))\n",
    "display(v)\n",
    "\n",
    "rho = density(r'\\rho',m,v)\n",
    "display(rho)"
   ]
  },
  {
   "cell_type": "code",
   "execution_count": null,
   "id": "great-association",
   "metadata": {},
   "outputs": [],
   "source": [
    "scope = innerscope.call(density, r'\\rho', m, v)"
   ]
  },
  {
   "cell_type": "code",
   "execution_count": null,
   "id": "extensive-sheet",
   "metadata": {},
   "outputs": [],
   "source": [
    "scope.return_value"
   ]
  },
  {
   "cell_type": "code",
   "execution_count": null,
   "id": "accepted-trout",
   "metadata": {},
   "outputs": [],
   "source": [
    "BulkModulus = quantity_maker('BulkModulus','Pa')\n",
    "ShearModulus = quantity_maker('ShearModulus','Pa')\n",
    "\n",
    "from dataclasses import dataclass\n",
    "@dataclass\n",
    "class Mineral:\n",
    "    density: Density\n",
    "    bulk_modulus: BulkModulus\n",
    "    shear_modulus: ShearModulus\n",
    "\n",
    "@dataclass\n",
    "class Composition:\n",
    "    composition: list(float)\n",
    "        \n",
    "class MineralComposition(Composition):\n",
    "    composition: list(Mineral)\n",
    "    \n",
    "@dataclass\n",
    "class Fluid:\n",
    "    density:\n",
    "    viscosity:\n",
    "        \n",
    "@dataclass\n",
    "class Rock:\n",
    "    mineral_composition: MineralComposition\n",
    "    fluid_composition: FluidComposition\n",
    "    compressional_velocity: \n",
    "        \n",
    "\n",
    "@typechecked"
   ]
  },
  {
   "cell_type": "code",
   "execution_count": null,
   "id": "preceding-wildlife",
   "metadata": {},
   "outputs": [],
   "source": []
  }
 ],
 "metadata": {
  "kernelspec": {
   "display_name": "Python 3",
   "language": "python",
   "name": "python3"
  },
  "language_info": {
   "codemirror_mode": {
    "name": "ipython",
    "version": 3
   },
   "file_extension": ".py",
   "mimetype": "text/x-python",
   "name": "python",
   "nbconvert_exporter": "python",
   "pygments_lexer": "ipython3",
   "version": "3.9.0"
  }
 },
 "nbformat": 4,
 "nbformat_minor": 5
}
