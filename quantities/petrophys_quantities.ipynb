{
 "metadata": {
  "language_info": {
   "codemirror_mode": {
    "name": "ipython",
    "version": 3
   },
   "file_extension": ".py",
   "mimetype": "text/x-python",
   "name": "python",
   "nbconvert_exporter": "python",
   "pygments_lexer": "ipython3",
   "version": "3.8.5-final"
  },
  "orig_nbformat": 2,
  "kernelspec": {
   "name": "python3",
   "display_name": "Python 3.8.5 64-bit ('.quant')",
   "metadata": {
    "interpreter": {
     "hash": "586fd7cdf5a42f49f4bcb694294ade92002debb1a72309fb975c8a8df2eca342"
    }
   }
  }
 },
 "nbformat": 4,
 "nbformat_minor": 2,
 "cells": [
  {
   "cell_type": "code",
   "execution_count": 3,
   "metadata": {},
   "outputs": [],
   "source": [
    "from quantities import quantity_maker, Limits, Q_\n",
    "from pint import DimensionalityError, UnitRegistry\n",
    "from uncertainties import ufloat\n",
    "from typeguard import typechecked\n",
    "\n",
    "import numpy as np\n",
    "# import pandas as pd\n",
    "# import lasio as ls"
   ]
  },
  {
   "cell_type": "code",
   "execution_count": 4,
   "metadata": {},
   "outputs": [],
   "source": [
    "# build density quantites and compute PHID, Sv, and PP. PSI and mPa\n",
    "\n",
    "# build density and resistivitiy quantites and compute PHID, Rw, and Sw  \n",
    "    # this may be interest for units are not clear for Rw\n",
    "\n",
    "# build quantities for length and thickness. compute TVT and TST with trig functions\n",
    "\n",
    "# attach a depth to each constant to indicate measurement location?"
   ]
  },
  {
   "cell_type": "code",
   "execution_count": 5,
   "metadata": {},
   "outputs": [
    {
     "output_type": "display_data",
     "data": {
      "text/plain": "<IPython.core.display.Latex object>",
      "text/latex": "$$water = 1.00\\pm0.10 \\, \\rm{[g/cm³]}, \\, \\rm{(Density)}$$"
     },
     "metadata": {}
    },
    {
     "output_type": "display_data",
     "data": {
      "text/plain": ""
     },
     "metadata": {}
    },
    {
     "output_type": "display_data",
     "data": {
      "text/plain": "<IPython.core.display.Latex object>",
      "text/latex": "$$limestone = 2.71\\pm0.10 \\, \\rm{[g/cm³]}, \\, \\rm{(Density)}$$"
     },
     "metadata": {}
    },
    {
     "output_type": "display_data",
     "data": {
      "text/plain": ""
     },
     "metadata": {}
    },
    {
     "output_type": "display_data",
     "data": {
      "text/plain": "<IPython.core.display.Latex object>",
      "text/latex": "$$sandstone = 2.65\\pm0.10 \\, \\rm{[g/cm³]}, \\, \\rm{(Density)}$$"
     },
     "metadata": {}
    },
    {
     "output_type": "display_data",
     "data": {
      "text/plain": ""
     },
     "metadata": {}
    }
   ],
   "source": [
    "# define constant densities of water and rock matrix\n",
    "\n",
    "Density = quantity_maker(\"Density\", \"g/cm^3\")\n",
    "\n",
    "dens_water = Density(name=\"water\", magnitude=ufloat(1.0, 0.1), units=\"g/cm^3\")\n",
    "dens_ls = Density(name=\"limestone\", magnitude=ufloat(2.71, 0.1), units=\"g/cm^3\")\n",
    "dens_ss = Density(name=\"sandstone\", magnitude=ufloat(2.65, 0.1), units=\"g/cm^3\")\n",
    "\n",
    "display(dens_water)\n",
    "display(dens_ls)\n",
    "display(dens_ss)"
   ]
  },
  {
   "cell_type": "code",
   "execution_count": 6,
   "metadata": {},
   "outputs": [
    {
     "output_type": "display_data",
     "data": {
      "text/plain": "<IPython.core.display.Latex object>",
      "text/latex": "$$water = 12.0\\pm 0.1 \\, \\rm{[m·Ω]}, \\, \\rm{(Deep\\:Resistivity)}$$"
     },
     "metadata": {}
    },
    {
     "output_type": "display_data",
     "data": {
      "text/plain": ""
     },
     "metadata": {}
    }
   ],
   "source": [
    "# define constant deep resisitivity of water\n",
    "\n",
    "Resd = quantity_maker(\"Deep\\:Resistivity\", \"ohm*m\")\n",
    "\n",
    "resd_water = Resd(name=\"water\", magnitude=ufloat(12.0, 0.1), units=\"ohm*m\")\n",
    "\n",
    "display(resd_water)"
   ]
  },
  {
   "cell_type": "code",
   "execution_count": 7,
   "metadata": {},
   "outputs": [
    {
     "output_type": "display_data",
     "data": {
      "text/plain": "<IPython.core.display.Latex object>",
      "text/latex": "$$gr\\:min = 42.0\\pm 0.1 \\, \\rm{[GRAPI]}, \\, \\rm{(Gamma\\:Ray)}$$"
     },
     "metadata": {}
    },
    {
     "output_type": "display_data",
     "data": {
      "text/plain": ""
     },
     "metadata": {}
    },
    {
     "output_type": "display_data",
     "data": {
      "text/plain": "<IPython.core.display.Latex object>",
      "text/latex": "$$gr\\:max =  196\\pm   0 \\, \\rm{[GRAPI]}, \\, \\rm{(Gamma\\:Ray)}$$"
     },
     "metadata": {}
    },
    {
     "output_type": "display_data",
     "data": {
      "text/plain": ""
     },
     "metadata": {}
    }
   ],
   "source": [
    "# define gamma ray min and max readings\n",
    "\n",
    "GammaRay = quantity_maker(\"Gamma\\:Ray\", \"GRAPI\")\n",
    "\n",
    "gr_min = GammaRay(name=\"gr\\:min\", magnitude=ufloat(42.0,0.1), units=\"GRAPI\")\n",
    "gr_max = GammaRay(name=\"gr\\:max\", magnitude=ufloat(196.0,0.1), units=\"GRAPI\")\n",
    "\n",
    "display(gr_min)\n",
    "display(gr_max)"
   ]
  },
  {
   "cell_type": "code",
   "execution_count": 45,
   "metadata": {},
   "outputs": [
    {
     "output_type": "display_data",
     "data": {
      "text/plain": "<IPython.core.display.Latex object>",
      "text/latex": "$$bed_{top} = 8e+03 \\, \\rm{[ft]}, \\, \\rm{(MD)}$$"
     },
     "metadata": {}
    },
    {
     "output_type": "display_data",
     "data": {
      "text/plain": ""
     },
     "metadata": {}
    },
    {
     "output_type": "display_data",
     "data": {
      "text/plain": "<IPython.core.display.Latex object>",
      "text/latex": "$$bed_{bot} = 8.05e+03 \\, \\rm{[ft]}, \\, \\rm{(MD)}$$"
     },
     "metadata": {}
    },
    {
     "output_type": "display_data",
     "data": {
      "text/plain": ""
     },
     "metadata": {}
    },
    {
     "output_type": "execute_result",
     "data": {
      "text/plain": [
       "['__add__',\n",
       " '__class__',\n",
       " '__delattr__',\n",
       " '__dict__',\n",
       " '__dir__',\n",
       " '__doc__',\n",
       " '__eq__',\n",
       " '__format__',\n",
       " '__ge__',\n",
       " '__getattribute__',\n",
       " '__gt__',\n",
       " '__hash__',\n",
       " '__init__',\n",
       " '__init_subclass__',\n",
       " '__le__',\n",
       " '__len__',\n",
       " '__lt__',\n",
       " '__module__',\n",
       " '__mul__',\n",
       " '__ne__',\n",
       " '__new__',\n",
       " '__pow__',\n",
       " '__reduce__',\n",
       " '__reduce_ex__',\n",
       " '__repr__',\n",
       " '__rmul__',\n",
       " '__setattr__',\n",
       " '__significant_digits__',\n",
       " '__sizeof__',\n",
       " '__str__',\n",
       " '__sub__',\n",
       " '__subclasshook__',\n",
       " '__truediv__',\n",
       " '__weakref__',\n",
       " 'class_units',\n",
       " 'expression',\n",
       " 'name',\n",
       " 'units',\n",
       " 'value']"
      ]
     },
     "metadata": {},
     "execution_count": 45
    }
   ],
   "source": [
    "# calculate corrected bed thicknesses for log measurements in a deviated hole\n",
    "\n",
    "# MLT = bed_top - bed_bot = log thickness of bed in deviated hole\n",
    "# TVT = MLT*cos(psi) = true vertical thickness of bed from hole dip\n",
    "# TST = TVT*cos(delta) = true stratigraphic thickness of bed from bed dip\n",
    "\n",
    "MeasuredDepth = quantity_maker(\"MD\", \"ft\")\n",
    "Thickness = quantity_maker(\"Thickness\", \"ft\")\n",
    "\n",
    "bed_top = MeasuredDepth(name=r\"bed_{top}\", quantity=Q_(\"8000 ft\"))\n",
    "bed_bot = MeasuredDepth(name=r\"bed_{bot}\", quantity=Q_(\"8050 ft\"))\n",
    "\n",
    "# how to convert from MD to thickness?\n",
    "mlt_ = bed_bot - bed_top\n",
    "mlt = Thickness(name=\"MLT\", quantity=mlt_)\n",
    "\n",
    "display(bed_top)\n",
    "display(bed_bot)\n",
    "# display(mlt)\n",
    "\n",
    "dir(mlt)\n",
    "\n"
   ]
  },
  {
   "cell_type": "code",
   "execution_count": 51,
   "metadata": {},
   "outputs": [
    {
     "output_type": "error",
     "ename": "UnboundLocalError",
     "evalue": "local variable 'h' referenced before assignment",
     "traceback": [
      "\u001b[0;31m---------------------------------------------------------------------------\u001b[0m",
      "\u001b[0;31mUnboundLocalError\u001b[0m                         Traceback (most recent call last)",
      "\u001b[0;32m<ipython-input-51-12d18c8dce16>\u001b[0m in \u001b[0;36m<module>\u001b[0;34m\u001b[0m\n\u001b[0;32m----> 1\u001b[0;31m \u001b[0mprint\u001b[0m\u001b[0;34m(\u001b[0m\u001b[0mmlt\u001b[0m\u001b[0;34m.\u001b[0m\u001b[0mexpression\u001b[0m\u001b[0;34m)\u001b[0m\u001b[0;34m\u001b[0m\u001b[0;34m\u001b[0m\u001b[0m\n\u001b[0m",
      "\u001b[0;32m~/projects/SemanticQuantities/quantities/quantities.py\u001b[0m in \u001b[0;36m__repr__\u001b[0;34m(self)\u001b[0m\n\u001b[1;32m    168\u001b[0m \u001b[0;34m\u001b[0m\u001b[0m\n\u001b[1;32m    169\u001b[0m     \u001b[0;32mdef\u001b[0m \u001b[0m__repr__\u001b[0m\u001b[0;34m(\u001b[0m\u001b[0mself\u001b[0m\u001b[0;34m)\u001b[0m\u001b[0;34m:\u001b[0m\u001b[0;34m\u001b[0m\u001b[0;34m\u001b[0m\u001b[0m\n\u001b[0;32m--> 170\u001b[0;31m         \u001b[0ms\u001b[0m \u001b[0;34m=\u001b[0m \u001b[0;34mf\"$${self.__str__()}$$\"\u001b[0m\u001b[0;34m\u001b[0m\u001b[0;34m\u001b[0m\u001b[0m\n\u001b[0m\u001b[1;32m    171\u001b[0m         \u001b[0mdisplay\u001b[0m\u001b[0;34m(\u001b[0m\u001b[0mLatex\u001b[0m\u001b[0;34m(\u001b[0m\u001b[0ms\u001b[0m\u001b[0;34m)\u001b[0m\u001b[0;34m)\u001b[0m\u001b[0;34m\u001b[0m\u001b[0;34m\u001b[0m\u001b[0m\n\u001b[1;32m    172\u001b[0m         \u001b[0;32mreturn\u001b[0m \u001b[0;34m\"\"\u001b[0m\u001b[0;34m\u001b[0m\u001b[0;34m\u001b[0m\u001b[0m\n",
      "\u001b[0;32m~/projects/SemanticQuantities/quantities/quantities.py\u001b[0m in \u001b[0;36m__str__\u001b[0;34m(self)\u001b[0m\n\u001b[1;32m    163\u001b[0m                         \u001b[0mh\u001b[0m \u001b[0;34m=\u001b[0m \u001b[0;34mf\"{self.value.m:4.{self.__significant_digits__}g}\"\u001b[0m\u001b[0;34m\u001b[0m\u001b[0;34m\u001b[0m\u001b[0m\n\u001b[1;32m    164\u001b[0m             \u001b[0mu\u001b[0m \u001b[0;34m=\u001b[0m \u001b[0mself\u001b[0m\u001b[0;34m.\u001b[0m\u001b[0mvalue\u001b[0m\u001b[0;34m.\u001b[0m\u001b[0munits\u001b[0m\u001b[0;34m\u001b[0m\u001b[0;34m\u001b[0m\u001b[0m\n\u001b[0;32m--> 165\u001b[0;31m         \u001b[0ms\u001b[0m \u001b[0;34m=\u001b[0m \u001b[0;34mf\"{self.name} = {h} \\\\, \\\\rm{{[{u}]}}, \\\\, \\\\rm{{({self.__class__.__name__})}}\"\u001b[0m\u001b[0;34m\u001b[0m\u001b[0;34m\u001b[0m\u001b[0m\n\u001b[0m\u001b[1;32m    166\u001b[0m         \u001b[0ms\u001b[0m \u001b[0;34m=\u001b[0m \u001b[0ms\u001b[0m\u001b[0;34m.\u001b[0m\u001b[0mreplace\u001b[0m\u001b[0;34m(\u001b[0m\u001b[0;34m'+/-'\u001b[0m\u001b[0;34m,\u001b[0m\u001b[0;34mr'\\pm'\u001b[0m\u001b[0;34m)\u001b[0m\u001b[0;34m\u001b[0m\u001b[0;34m\u001b[0m\u001b[0m\n\u001b[1;32m    167\u001b[0m         \u001b[0;32mreturn\u001b[0m \u001b[0ms\u001b[0m\u001b[0;34m\u001b[0m\u001b[0;34m\u001b[0m\u001b[0m\n",
      "\u001b[0;31mUnboundLocalError\u001b[0m: local variable 'h' referenced before assignment"
     ]
    }
   ],
   "source": [
    "print(mlt.expression)"
   ]
  },
  {
   "cell_type": "code",
   "execution_count": null,
   "metadata": {},
   "outputs": [],
   "source": []
  }
 ]
}