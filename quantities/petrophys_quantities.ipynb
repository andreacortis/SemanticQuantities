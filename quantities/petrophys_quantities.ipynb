{
 "metadata": {
  "language_info": {
   "codemirror_mode": {
    "name": "ipython",
    "version": 3
   },
   "file_extension": ".py",
   "mimetype": "text/x-python",
   "name": "python",
   "nbconvert_exporter": "python",
   "pygments_lexer": "ipython3",
   "version": "3.8.5-final"
  },
  "orig_nbformat": 2,
  "kernelspec": {
   "name": "python3",
   "display_name": "Python 3.8.5 64-bit ('.quant')",
   "metadata": {
    "interpreter": {
     "hash": "586fd7cdf5a42f49f4bcb694294ade92002debb1a72309fb975c8a8df2eca342"
    }
   }
  }
 },
 "nbformat": 4,
 "nbformat_minor": 2,
 "cells": [
  {
   "cell_type": "code",
   "execution_count": 2,
   "metadata": {},
   "outputs": [],
   "source": [
    "from quantities import quantity_maker, Limits, Q_\n",
    "from pint import DimensionalityError, UnitRegistry\n",
    "from uncertainties import ufloat\n",
    "from typeguard import typechecked\n",
    "\n",
    "import numpy as np\n",
    "# import pandas as pd\n",
    "# import lasio as ls"
   ]
  },
  {
   "cell_type": "code",
   "execution_count": 3,
   "metadata": {},
   "outputs": [],
   "source": [
    "# build density quantites and compute PHID, Sv, and PP. PSI and mPa\n",
    "\n",
    "# build density and resistivitiy quantites and compute PHID, Rw, and Sw  \n",
    "    # this may be interest for units are not clear for Rw\n",
    "\n",
    "# build quantities for length and thickness. compute TVT and TST with trig functions\n",
    "\n",
    "# attach a depth to each constant to indicate measurement location?\n",
    "\n",
    "# figure out correct way to build quantities --> how do they relate to str, int, float?"
   ]
  },
  {
   "cell_type": "code",
   "execution_count": 4,
   "metadata": {},
   "outputs": [
    {
     "output_type": "display_data",
     "data": {
      "text/plain": "<IPython.core.display.Latex object>",
      "text/latex": "$$water = 1.00\\pm0.10 \\, \\rm{[g/cm³]}, \\, \\rm{(Density)}$$"
     },
     "metadata": {}
    },
    {
     "output_type": "display_data",
     "data": {
      "text/plain": ""
     },
     "metadata": {}
    },
    {
     "output_type": "display_data",
     "data": {
      "text/plain": "<IPython.core.display.Latex object>",
      "text/latex": "$$limestone = 2.71\\pm0.10 \\, \\rm{[g/cm³]}, \\, \\rm{(Density)}$$"
     },
     "metadata": {}
    },
    {
     "output_type": "display_data",
     "data": {
      "text/plain": ""
     },
     "metadata": {}
    },
    {
     "output_type": "display_data",
     "data": {
      "text/plain": "<IPython.core.display.Latex object>",
      "text/latex": "$$sandstone = 2.65\\pm0.10 \\, \\rm{[g/cm³]}, \\, \\rm{(Density)}$$"
     },
     "metadata": {}
    },
    {
     "output_type": "display_data",
     "data": {
      "text/plain": ""
     },
     "metadata": {}
    }
   ],
   "source": [
    "# define constant densities of water and rock matrix\n",
    "\n",
    "Density = quantity_maker(\"Density\", \"g/cm^3\")\n",
    "\n",
    "dens_water = Density(name=\"water\", magnitude=ufloat(1.0, 0.1), units=\"g/cm^3\")\n",
    "dens_ls = Density(name=\"limestone\", magnitude=ufloat(2.71, 0.1), units=\"g/cm^3\")\n",
    "dens_ss = Density(name=\"sandstone\", magnitude=ufloat(2.65, 0.1), units=\"g/cm^3\")\n",
    "\n",
    "display(dens_water)\n",
    "display(dens_ls)\n",
    "display(dens_ss)"
   ]
  },
  {
   "cell_type": "code",
   "execution_count": 5,
   "metadata": {},
   "outputs": [
    {
     "output_type": "display_data",
     "data": {
      "text/plain": "<IPython.core.display.Latex object>",
      "text/latex": "$$water = 12.0\\pm 0.1 \\, \\rm{[m·Ω]}, \\, \\rm{(Deep\\:Resistivity)}$$"
     },
     "metadata": {}
    },
    {
     "output_type": "display_data",
     "data": {
      "text/plain": ""
     },
     "metadata": {}
    }
   ],
   "source": [
    "# define constant deep resisitivity of water\n",
    "\n",
    "Resd = quantity_maker(\"Deep\\:Resistivity\", \"ohm*m\")\n",
    "\n",
    "resd_water = Resd(name=\"water\", magnitude=ufloat(12.0, 0.1), units=\"ohm*m\")\n",
    "\n",
    "display(resd_water)"
   ]
  },
  {
   "cell_type": "code",
   "execution_count": 6,
   "metadata": {},
   "outputs": [
    {
     "output_type": "display_data",
     "data": {
      "text/plain": "<IPython.core.display.Latex object>",
      "text/latex": "$$gr\\:min = 42.0\\pm 0.1 \\, \\rm{[GRAPI]}, \\, \\rm{(Gamma\\:Ray)}$$"
     },
     "metadata": {}
    },
    {
     "output_type": "display_data",
     "data": {
      "text/plain": ""
     },
     "metadata": {}
    },
    {
     "output_type": "display_data",
     "data": {
      "text/plain": "<IPython.core.display.Latex object>",
      "text/latex": "$$gr\\:max =  196\\pm   0 \\, \\rm{[GRAPI]}, \\, \\rm{(Gamma\\:Ray)}$$"
     },
     "metadata": {}
    },
    {
     "output_type": "display_data",
     "data": {
      "text/plain": ""
     },
     "metadata": {}
    }
   ],
   "source": [
    "# define gamma ray min and max readings\n",
    "\n",
    "GammaRay = quantity_maker(\"Gamma\\:Ray\", \"GRAPI\")\n",
    "\n",
    "gr_min = GammaRay(name=\"gr\\:min\", magnitude=ufloat(42.0,0.1), units=\"GRAPI\")\n",
    "gr_max = GammaRay(name=\"gr\\:max\", magnitude=ufloat(196.0,0.1), units=\"GRAPI\")\n",
    "\n",
    "display(gr_min)\n",
    "display(gr_max)"
   ]
  },
  {
   "cell_type": "code",
   "execution_count": 79,
   "metadata": {},
   "outputs": [
    {
     "output_type": "display_data",
     "data": {
      "text/plain": "<IPython.core.display.Latex object>",
      "text/latex": "$$MLT =  445 \\, \\rm{[ft]}, \\, \\rm{(Thickness)}$$"
     },
     "metadata": {}
    },
    {
     "output_type": "display_data",
     "data": {
      "text/plain": ""
     },
     "metadata": {}
    },
    {
     "output_type": "display_data",
     "data": {
      "text/plain": "<IPython.core.display.Latex object>",
      "text/latex": "$$TVT =  150 \\, \\rm{[ft]}, \\, \\rm{(Thickness)}$$"
     },
     "metadata": {}
    },
    {
     "output_type": "display_data",
     "data": {
      "text/plain": ""
     },
     "metadata": {}
    },
    {
     "output_type": "display_data",
     "data": {
      "text/plain": "<IPython.core.display.Latex object>",
      "text/latex": "$$TST =  123 \\, \\rm{[ft]}, \\, \\rm{(Thickness)}$$"
     },
     "metadata": {}
    },
    {
     "output_type": "display_data",
     "data": {
      "text/plain": ""
     },
     "metadata": {}
    }
   ],
   "source": [
    "# calculate 3D corrected bed thicknesses from log measurements in a deviated wellbore\n",
    "# this holds for a down dip drilling case\n",
    "\n",
    "# make some quantities\n",
    "Thickness = quantity_maker(\"Thickness\", \"ft\")\n",
    "\n",
    "# MLT = measured thickness of bed measured from log\n",
    "mlt = Thickness(name=\"MLT\", quantity=Q_(\"445 ft\"))\n",
    "\n",
    "# TVT = MLT*(cos(psi)-(sin(psi)*cos(alpha)*tan(phi))) = true vertical thickness of bed \n",
    "alpha_w = 90  # wellbore oriented due east\n",
    "alpha_a = 90  # bedding dipping due east (normal to strike)\n",
    "alpha = np.radians(np.abs(alpha_w-alpha_a)) # change in azimuth between wellbore and bed dip\n",
    "psi = np.radians(35)  # wellbore deviation\n",
    "phi = np.radians(40)  # true bed dip\n",
    "\n",
    "tvt_ = mlt*(np.cos(psi)-(np.sin(psi)*np.cos(alpha)*np.tan(phi)))\n",
    "tvt = Thickness(name=\"TVT\", quantity=Q_(tvt_.value)) \n",
    "\n",
    "# TST = TVT*cos(psi) = true stratigraphic thickness of bed \n",
    "tst_ = tvt*np.cos(psi)\n",
    "tst = Thickness(name=\"TST\", quantity=Q_(tst_.value))\n",
    "\n",
    "# display thicknesses\n",
    "display(mlt)\n",
    "display(tvt)\n",
    "display(tst)"
   ]
  },
  {
   "cell_type": "code",
   "execution_count": 83,
   "metadata": {},
   "outputs": [
    {
     "output_type": "stream",
     "name": "stdout",
     "text": [
      "TST =  123 \\, \\rm{[ft]}, \\, \\rm{(Thickness)}\n"
     ]
    }
   ],
   "source": [
    "print(tst.__str__())"
   ]
  },
  {
   "cell_type": "code",
   "execution_count": null,
   "metadata": {},
   "outputs": [],
   "source": [
    "MeasuredDepth = quantity_maker(\"MD\", \"ft\")\n",
    "Thickness = quantity_maker(\"Thickness\", \"ft\")\n",
    "\n",
    "bed_top = MeasuredDepth(name=r\"bed_{top}\", quantity=Q_(\"8000 ft\"))\n",
    "bed_bot = MeasuredDepth(name=r\"bed_{bot}\", quantity=Q_(\"8050 ft\"))"
   ]
  },
  {
   "cell_type": "code",
   "execution_count": 58,
   "metadata": {},
   "outputs": [
    {
     "output_type": "execute_result",
     "data": {
      "text/plain": [
       "['__add__',\n",
       " '__class__',\n",
       " '__delattr__',\n",
       " '__dict__',\n",
       " '__dir__',\n",
       " '__doc__',\n",
       " '__eq__',\n",
       " '__format__',\n",
       " '__ge__',\n",
       " '__getattribute__',\n",
       " '__gt__',\n",
       " '__hash__',\n",
       " '__init__',\n",
       " '__init_subclass__',\n",
       " '__le__',\n",
       " '__len__',\n",
       " '__lt__',\n",
       " '__module__',\n",
       " '__mul__',\n",
       " '__ne__',\n",
       " '__new__',\n",
       " '__pow__',\n",
       " '__reduce__',\n",
       " '__reduce_ex__',\n",
       " '__repr__',\n",
       " '__rmul__',\n",
       " '__setattr__',\n",
       " '__significant_digits__',\n",
       " '__sizeof__',\n",
       " '__str__',\n",
       " '__sub__',\n",
       " '__subclasshook__',\n",
       " '__truediv__',\n",
       " '__weakref__',\n",
       " 'class_units',\n",
       " 'name',\n",
       " 'units',\n",
       " 'value']"
      ]
     },
     "metadata": {},
     "execution_count": 58
    }
   ],
   "source": [
    "dir(mlt_)"
   ]
  }
 ]
}