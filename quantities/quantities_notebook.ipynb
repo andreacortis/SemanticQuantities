{
 "cells": [
  {
   "cell_type": "code",
   "execution_count": 1,
   "id": "ecological-flower",
   "metadata": {},
   "outputs": [],
   "source": [
    "from quantities import quantity_maker, Limits, Q_\n",
    "from pint import DimensionalityError\n",
    "from uncertainties import ufloat\n",
    "from typeguard import typechecked\n",
    "from handcalcs import handcalc\n",
    "from handcalcs.handcalcs import LatexRenderer\n",
    "import inspect\n",
    "import innerscope\n",
    "from handcalcs.decorator import _func_source_to_cell\n",
    "import handcalcs.render\n",
    "from dataclasses import dataclass"
   ]
  },
  {
   "cell_type": "code",
   "execution_count": 2,
   "id": "smooth-berry",
   "metadata": {},
   "outputs": [
    {
     "name": "stdout",
     "output_type": "stream",
     "text": [
      "c1=True, c2=False, c3=False\n"
     ]
    },
    {
     "data": {
      "text/latex": [
       "$$m_0 = 6.00\\pm0.10 \\, \\rm{[kg]}, \\, \\rm{(Mass)}$$"
      ],
      "text/plain": [
       "<IPython.core.display.Latex object>"
      ]
     },
     "metadata": {},
     "output_type": "display_data"
    },
    {
     "data": {
      "text/plain": []
     },
     "metadata": {},
     "output_type": "display_data"
    },
    {
     "name": "stdout",
     "output_type": "stream",
     "text": [
      "c1=False, c2=True, c3=False\n"
     ]
    },
    {
     "data": {
      "text/latex": [
       "$$v_0 = 3.00\\pm0.20 \\, \\rm{[m³]}, \\, \\rm{(Volume)}$$"
      ],
      "text/plain": [
       "<IPython.core.display.Latex object>"
      ]
     },
     "metadata": {},
     "output_type": "display_data"
    },
    {
     "data": {
      "text/plain": []
     },
     "metadata": {},
     "output_type": "display_data"
    },
    {
     "name": "stdout",
     "output_type": "stream",
     "text": [
      "c1=False, c2=True, c3=False\n"
     ]
    },
    {
     "data": {
      "text/latex": [
       "$$\\rho = \\frac{m_0}{v_0} = 2.00\\pm0.14 \\, \\rm{[kg/m³]}, \\, \\rm{(Density)}$$"
      ],
      "text/plain": [
       "<IPython.core.display.Latex object>"
      ]
     },
     "metadata": {},
     "output_type": "display_data"
    },
    {
     "data": {
      "text/plain": []
     },
     "metadata": {},
     "output_type": "display_data"
    },
    {
     "name": "stdout",
     "output_type": "stream",
     "text": [
      "c1=False, c2=False, c3=True\n",
      "c1=False, c2=False, c3=True\n",
      "c1=False, c2=True, c3=False\n"
     ]
    },
    {
     "ename": "UnboundLocalError",
     "evalue": "local variable 'h' referenced before assignment",
     "output_type": "error",
     "traceback": [
      "\u001b[0;31m---------------------------------------------------------------------------\u001b[0m",
      "\u001b[0;31mUnboundLocalError\u001b[0m                         Traceback (most recent call last)",
      "\u001b[0;32m~/my_codes/quantities/.quant/lib/python3.9/site-packages/IPython/core/formatters.py\u001b[0m in \u001b[0;36m__call__\u001b[0;34m(self, obj)\u001b[0m\n\u001b[1;32m    700\u001b[0m                 \u001b[0mtype_pprinters\u001b[0m\u001b[0;34m=\u001b[0m\u001b[0mself\u001b[0m\u001b[0;34m.\u001b[0m\u001b[0mtype_printers\u001b[0m\u001b[0;34m,\u001b[0m\u001b[0;34m\u001b[0m\u001b[0;34m\u001b[0m\u001b[0m\n\u001b[1;32m    701\u001b[0m                 deferred_pprinters=self.deferred_printers)\n\u001b[0;32m--> 702\u001b[0;31m             \u001b[0mprinter\u001b[0m\u001b[0;34m.\u001b[0m\u001b[0mpretty\u001b[0m\u001b[0;34m(\u001b[0m\u001b[0mobj\u001b[0m\u001b[0;34m)\u001b[0m\u001b[0;34m\u001b[0m\u001b[0;34m\u001b[0m\u001b[0m\n\u001b[0m\u001b[1;32m    703\u001b[0m             \u001b[0mprinter\u001b[0m\u001b[0;34m.\u001b[0m\u001b[0mflush\u001b[0m\u001b[0;34m(\u001b[0m\u001b[0;34m)\u001b[0m\u001b[0;34m\u001b[0m\u001b[0;34m\u001b[0m\u001b[0m\n\u001b[1;32m    704\u001b[0m             \u001b[0;32mreturn\u001b[0m \u001b[0mstream\u001b[0m\u001b[0;34m.\u001b[0m\u001b[0mgetvalue\u001b[0m\u001b[0;34m(\u001b[0m\u001b[0;34m)\u001b[0m\u001b[0;34m\u001b[0m\u001b[0;34m\u001b[0m\u001b[0m\n",
      "\u001b[0;32m~/my_codes/quantities/.quant/lib/python3.9/site-packages/IPython/lib/pretty.py\u001b[0m in \u001b[0;36mpretty\u001b[0;34m(self, obj)\u001b[0m\n\u001b[1;32m    392\u001b[0m                         \u001b[0;32mif\u001b[0m \u001b[0mcls\u001b[0m \u001b[0;32mis\u001b[0m \u001b[0;32mnot\u001b[0m \u001b[0mobject\u001b[0m\u001b[0;31m \u001b[0m\u001b[0;31m\\\u001b[0m\u001b[0;34m\u001b[0m\u001b[0;34m\u001b[0m\u001b[0m\n\u001b[1;32m    393\u001b[0m                                 \u001b[0;32mand\u001b[0m \u001b[0mcallable\u001b[0m\u001b[0;34m(\u001b[0m\u001b[0mcls\u001b[0m\u001b[0;34m.\u001b[0m\u001b[0m__dict__\u001b[0m\u001b[0;34m.\u001b[0m\u001b[0mget\u001b[0m\u001b[0;34m(\u001b[0m\u001b[0;34m'__repr__'\u001b[0m\u001b[0;34m)\u001b[0m\u001b[0;34m)\u001b[0m\u001b[0;34m:\u001b[0m\u001b[0;34m\u001b[0m\u001b[0;34m\u001b[0m\u001b[0m\n\u001b[0;32m--> 394\u001b[0;31m                             \u001b[0;32mreturn\u001b[0m \u001b[0m_repr_pprint\u001b[0m\u001b[0;34m(\u001b[0m\u001b[0mobj\u001b[0m\u001b[0;34m,\u001b[0m \u001b[0mself\u001b[0m\u001b[0;34m,\u001b[0m \u001b[0mcycle\u001b[0m\u001b[0;34m)\u001b[0m\u001b[0;34m\u001b[0m\u001b[0;34m\u001b[0m\u001b[0m\n\u001b[0m\u001b[1;32m    395\u001b[0m \u001b[0;34m\u001b[0m\u001b[0m\n\u001b[1;32m    396\u001b[0m             \u001b[0;32mreturn\u001b[0m \u001b[0m_default_pprint\u001b[0m\u001b[0;34m(\u001b[0m\u001b[0mobj\u001b[0m\u001b[0;34m,\u001b[0m \u001b[0mself\u001b[0m\u001b[0;34m,\u001b[0m \u001b[0mcycle\u001b[0m\u001b[0;34m)\u001b[0m\u001b[0;34m\u001b[0m\u001b[0;34m\u001b[0m\u001b[0m\n",
      "\u001b[0;32m~/my_codes/quantities/.quant/lib/python3.9/site-packages/IPython/lib/pretty.py\u001b[0m in \u001b[0;36m_repr_pprint\u001b[0;34m(obj, p, cycle)\u001b[0m\n\u001b[1;32m    698\u001b[0m     \u001b[0;34m\"\"\"A pprint that just redirects to the normal repr function.\"\"\"\u001b[0m\u001b[0;34m\u001b[0m\u001b[0;34m\u001b[0m\u001b[0m\n\u001b[1;32m    699\u001b[0m     \u001b[0;31m# Find newlines and replace them with p.break_()\u001b[0m\u001b[0;34m\u001b[0m\u001b[0;34m\u001b[0m\u001b[0;34m\u001b[0m\u001b[0m\n\u001b[0;32m--> 700\u001b[0;31m     \u001b[0moutput\u001b[0m \u001b[0;34m=\u001b[0m \u001b[0mrepr\u001b[0m\u001b[0;34m(\u001b[0m\u001b[0mobj\u001b[0m\u001b[0;34m)\u001b[0m\u001b[0;34m\u001b[0m\u001b[0;34m\u001b[0m\u001b[0m\n\u001b[0m\u001b[1;32m    701\u001b[0m     \u001b[0mlines\u001b[0m \u001b[0;34m=\u001b[0m \u001b[0moutput\u001b[0m\u001b[0;34m.\u001b[0m\u001b[0msplitlines\u001b[0m\u001b[0;34m(\u001b[0m\u001b[0;34m)\u001b[0m\u001b[0;34m\u001b[0m\u001b[0;34m\u001b[0m\u001b[0m\n\u001b[1;32m    702\u001b[0m     \u001b[0;32mwith\u001b[0m \u001b[0mp\u001b[0m\u001b[0;34m.\u001b[0m\u001b[0mgroup\u001b[0m\u001b[0;34m(\u001b[0m\u001b[0;34m)\u001b[0m\u001b[0;34m:\u001b[0m\u001b[0;34m\u001b[0m\u001b[0;34m\u001b[0m\u001b[0m\n",
      "\u001b[0;32m~/my_codes/quantities/quantities/basic_quantities.py\u001b[0m in \u001b[0;36m__repr__\u001b[0;34m(self)\u001b[0m\n\u001b[1;32m    165\u001b[0m \u001b[0;34m\u001b[0m\u001b[0m\n\u001b[1;32m    166\u001b[0m     \u001b[0;32mdef\u001b[0m \u001b[0m__repr__\u001b[0m\u001b[0;34m(\u001b[0m\u001b[0mself\u001b[0m\u001b[0;34m)\u001b[0m\u001b[0;34m:\u001b[0m\u001b[0;34m\u001b[0m\u001b[0;34m\u001b[0m\u001b[0m\n\u001b[0;32m--> 167\u001b[0;31m         \u001b[0ms\u001b[0m \u001b[0;34m=\u001b[0m \u001b[0;34mf\"$${self.__str__()}$$\"\u001b[0m\u001b[0;34m\u001b[0m\u001b[0;34m\u001b[0m\u001b[0m\n\u001b[0m\u001b[1;32m    168\u001b[0m         \u001b[0mdisplay\u001b[0m\u001b[0;34m(\u001b[0m\u001b[0mLatex\u001b[0m\u001b[0;34m(\u001b[0m\u001b[0ms\u001b[0m\u001b[0;34m)\u001b[0m\u001b[0;34m)\u001b[0m\u001b[0;34m\u001b[0m\u001b[0;34m\u001b[0m\u001b[0m\n\u001b[1;32m    169\u001b[0m         \u001b[0;32mreturn\u001b[0m \u001b[0;34m\"\"\u001b[0m\u001b[0;34m\u001b[0m\u001b[0;34m\u001b[0m\u001b[0m\n",
      "\u001b[0;32m~/my_codes/quantities/quantities/basic_quantities.py\u001b[0m in \u001b[0;36m__str__\u001b[0;34m(self)\u001b[0m\n\u001b[1;32m    160\u001b[0m                         \u001b[0mh\u001b[0m \u001b[0;34m=\u001b[0m \u001b[0;34mf\"{self.value.m:4.{self.__significant_digits__}g}\"\u001b[0m\u001b[0;34m\u001b[0m\u001b[0;34m\u001b[0m\u001b[0m\n\u001b[1;32m    161\u001b[0m             \u001b[0mu\u001b[0m \u001b[0;34m=\u001b[0m \u001b[0mself\u001b[0m\u001b[0;34m.\u001b[0m\u001b[0mvalue\u001b[0m\u001b[0;34m.\u001b[0m\u001b[0munits\u001b[0m\u001b[0;34m\u001b[0m\u001b[0;34m\u001b[0m\u001b[0m\n\u001b[0;32m--> 162\u001b[0;31m         \u001b[0ms\u001b[0m \u001b[0;34m=\u001b[0m \u001b[0;34mf\"{self.name} = {h} \\\\, \\\\rm{{[{u}]}}, \\\\, \\\\rm{{({self.__class__.__name__})}}\"\u001b[0m\u001b[0;34m\u001b[0m\u001b[0;34m\u001b[0m\u001b[0m\n\u001b[0m\u001b[1;32m    163\u001b[0m         \u001b[0ms\u001b[0m \u001b[0;34m=\u001b[0m \u001b[0ms\u001b[0m\u001b[0;34m.\u001b[0m\u001b[0mreplace\u001b[0m\u001b[0;34m(\u001b[0m\u001b[0;34m'+/-'\u001b[0m\u001b[0;34m,\u001b[0m\u001b[0;34mr'\\pm'\u001b[0m\u001b[0;34m)\u001b[0m\u001b[0;34m\u001b[0m\u001b[0;34m\u001b[0m\u001b[0m\n\u001b[1;32m    164\u001b[0m         \u001b[0;32mreturn\u001b[0m \u001b[0ms\u001b[0m\u001b[0;34m\u001b[0m\u001b[0;34m\u001b[0m\u001b[0m\n",
      "\u001b[0;31mUnboundLocalError\u001b[0m: local variable 'h' referenced before assignment"
     ]
    }
   ],
   "source": [
    "Mass = quantity_maker('Mass','kg')\n",
    "Volume = quantity_maker('Volume','m^3')\n",
    "\n",
    "Density = quantity_maker('Density','kg/m^3')\n",
    "@typechecked\n",
    "def density(name:str, m:Mass, v:Volume) -> Density:\n",
    "    name = f'{name} = \\\\frac{{{m.name}}}{{{v.name}}}'\n",
    "    return Density(name = name, quantity = m/v)\n",
    "\n",
    "def d(m,v):\n",
    "    return m/v\n",
    "\n",
    "m = Mass(name='m_0', magnitude=ufloat(6, 0.1), units='kg')\n",
    "display(m)\n",
    "\n",
    "v = Volume(name='v_0', quantity=Q_(ufloat(3, 0.2),'m^3'))\n",
    "display(v)\n",
    "\n",
    "rho = density(r'\\rho', m, v)\n",
    "display(rho)\n",
    "\n",
    "\n",
    "m = Mass(name=r'\\bar{m}', limits=Limits([Q_('6 kg'), Q_('7 kg')]))\n",
    "v = Volume(name=r'\\bar{v}', limits=Limits([Q_('1 m^3'), Q_('3 m^3')]))\n",
    "rho = density(r'\\rho', m, v)\n",
    "display(rho)"
   ]
  },
  {
   "cell_type": "code",
   "execution_count": 3,
   "id": "abandoned-prize",
   "metadata": {},
   "outputs": [
    {
     "ename": "AttributeError",
     "evalue": "'interval' object has no attribute 'units'",
     "output_type": "error",
     "traceback": [
      "\u001b[0;31m---------------------------------------------------------------------------\u001b[0m",
      "\u001b[0;31mAttributeError\u001b[0m                            Traceback (most recent call last)",
      "\u001b[0;32m<ipython-input-3-a97502e3f23c>\u001b[0m in \u001b[0;36m<module>\u001b[0;34m\u001b[0m\n\u001b[0;32m----> 1\u001b[0;31m \u001b[0mQ_\u001b[0m\u001b[0;34m(\u001b[0m\u001b[0;36m1\u001b[0m\u001b[0;34m,\u001b[0m\u001b[0mm\u001b[0m\u001b[0;34m.\u001b[0m\u001b[0mvalue\u001b[0m\u001b[0;34m.\u001b[0m\u001b[0mvalue\u001b[0m\u001b[0;34m.\u001b[0m\u001b[0munits\u001b[0m\u001b[0;34m)\u001b[0m\u001b[0;34m.\u001b[0m\u001b[0mdimensionality\u001b[0m\u001b[0;34m\u001b[0m\u001b[0;34m\u001b[0m\u001b[0m\n\u001b[0m",
      "\u001b[0;31mAttributeError\u001b[0m: 'interval' object has no attribute 'units'"
     ]
    }
   ],
   "source": [
    "# Q_(1,m.value.value.units).dimensionality"
   ]
  },
  {
   "cell_type": "code",
   "execution_count": null,
   "id": "accepted-trout",
   "metadata": {},
   "outputs": [],
   "source": [
    "BulkModulus = quantity_maker('BulkModulus','Pa')\n",
    "ShearModulus = quantity_maker('ShearModulus','Pa')\n",
    "\n",
    "@dataclass\n",
    "class Mineral:\n",
    "    density: Density\n",
    "    bulk_modulus: BulkModulus\n",
    "    shear_modulus: ShearModulus\n",
    "\n",
    "@dataclass\n",
    "class Composition:\n",
    "    composition: list(float)\n",
    "        \n",
    "class MineralComposition(Composition):\n",
    "    composition: list(Mineral)\n",
    "    \n",
    "@dataclass\n",
    "class Fluid:\n",
    "    density: Density\n",
    "    viscosity: Viscosity\n",
    "        \n",
    "@dataclass\n",
    "class Rock:\n",
    "    mineral_composition: MineralComposition\n",
    "    fluid_composition: FluidComposition\n",
    "    compressional_velocity: \n",
    "        \n",
    "\n",
    "@typechecked"
   ]
  },
  {
   "cell_type": "code",
   "execution_count": null,
   "id": "described-spring",
   "metadata": {},
   "outputs": [],
   "source": [
    "Porosity = quantity_maker('Porosity','m^3/m^3')\n",
    "EffPorosity = quantity_maker('EffPorosity','m^3/m^3')"
   ]
  },
  {
   "cell_type": "code",
   "execution_count": null,
   "id": "limiting-national",
   "metadata": {},
   "outputs": [],
   "source": [
    "Resistivity = quantity_maker('Resistivity','ohm/m')\n",
    "def resistivity(name:str, phi:EffPorosity) -> Resistivity:\n",
    "    name = ''\n",
    "    alpha = ...\n",
    "    return Resistivity(name, quantity=alpha)"
   ]
  },
  {
   "cell_type": "code",
   "execution_count": null,
   "id": "illegal-training",
   "metadata": {},
   "outputs": [],
   "source": [
    "m = Mass(name=r'\\bar{m}', limits=Limits([Q_('6 kg'), Q_('7 kg')]))\n",
    "v = Volume(name=r'\\bar{v}', limits=Limits([Q_('1 m^3'), Q_('3 m^3')]))"
   ]
  },
  {
   "cell_type": "code",
   "execution_count": null,
   "id": "proof-point",
   "metadata": {},
   "outputs": [],
   "source": [
    "display(m)\n",
    "display(v)"
   ]
  },
  {
   "cell_type": "code",
   "execution_count": null,
   "id": "meaningful-positive",
   "metadata": {},
   "outputs": [],
   "source": [
    "rho = density(r'\\rho', m, v)\n",
    "display(rho)"
   ]
  },
  {
   "cell_type": "code",
   "execution_count": null,
   "id": "impressive-summary",
   "metadata": {},
   "outputs": [],
   "source": []
  }
 ],
 "metadata": {
  "kernelspec": {
   "display_name": "Python 3",
   "language": "python",
   "name": "python3"
  },
  "language_info": {
   "codemirror_mode": {
    "name": "ipython",
    "version": 3
   },
   "file_extension": ".py",
   "mimetype": "text/x-python",
   "name": "python",
   "nbconvert_exporter": "python",
   "pygments_lexer": "ipython3",
   "version": "3.9.0"
  }
 },
 "nbformat": 4,
 "nbformat_minor": 5
}
